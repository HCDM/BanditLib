{
 "cells": [
  {
   "cell_type": "code",
   "execution_count": 1,
   "metadata": {},
   "outputs": [],
   "source": [
    "import random\n",
    "import heapq\n",
    "import datetime\n",
    "import networkx as nx\n",
    "import math\n",
    "import argparse\n",
    "import matplotlib.pyplot as plt\n",
    "import time\n",
    "import pickle\n",
    "import numpy as np\n",
    "import operator\n"
   ]
  },
  {
   "cell_type": "code",
   "execution_count": 2,
   "metadata": {},
   "outputs": [
    {
     "name": "stdout",
     "output_type": "stream",
     "text": [
      "Finish Processing, Start dumping\n",
      "Total Nodes 105938\n",
      "maxDegree 5425 1\n",
      "AverageDegree 43.74158470048519\n",
      "Total Nodes 2564\n",
      "maxDegree 100 50\n",
      "AverageDegree 73.17667706708268\n"
     ]
    }
   ],
   "source": [
    "file_address_5 = '../datasets/Flickr/flickrEdges.txt'\n",
    "save_dir = '../datasets/Flickr/'\n",
    "\n",
    "featureDic = {}\n",
    "thetaDic = {}\n",
    "PDic = {}\n",
    "NodeDegree = {}\n",
    "\n",
    "with open(file_address_5) as f:\n",
    "    counter = 0\n",
    "    for line in f:\n",
    "        if counter >=4:\n",
    "            data = line.split(' ')\n",
    "            u = int(data[0])\n",
    "            v = int(data[1])\n",
    "            if u not in NodeDegree:\n",
    "                NodeDegree[u] = 1\n",
    "            else:\n",
    "                NodeDegree[u]  +=1\n",
    "            if v not in NodeDegree:\n",
    "                NodeDegree[v] = 1\n",
    "            else:\n",
    "                NodeDegree[v]  +=1\n",
    "\n",
    "        counter +=1\n",
    "print('Finish Processing, Start dumping')\n",
    "print('Total Nodes', len(NodeDegree))\n",
    "print('maxDegree', max(iter(NodeDegree.items()), key=operator.itemgetter(1))[1], min(iter(NodeDegree.items()), key=operator.itemgetter(1))[1])\n",
    "print('AverageDegree', sum(NodeDegree.values())/float(len(NodeDegree)))\n",
    "\n",
    "FinalNodeList =[]\n",
    "FinalNodeDegree  = {}\n",
    "max_degree = 100\n",
    "min_degree = 50\n",
    "\n",
    "for key in NodeDegree:\n",
    "    if NodeDegree[key] <= max_degree and NodeDegree[key] >= min_degree:\n",
    "        FinalNodeList.append(key)\n",
    "        FinalNodeDegree[key] = NodeDegree[key]\n",
    "\n",
    "print('Total Nodes', len(FinalNodeList))\n",
    "print('maxDegree', max(iter(FinalNodeDegree.items()), key=operator.itemgetter(1))[1], min(iter(FinalNodeDegree.items()), key=operator.itemgetter(1))[1])\n",
    "print('AverageDegree', sum(FinalNodeDegree.values())/float(len(FinalNodeDegree)))\n"
   ]
  },
  {
   "cell_type": "code",
   "execution_count": null,
   "metadata": {},
   "outputs": [],
   "source": [
    "save_dir = '../datasets/Flickr/'\n",
    "NodeList = FinalNodeList\n",
    "\n",
    "NodeNum = len(NodeList)\n",
    "print(NodeNum)\n",
    "Small_NodeList = NodeList\n",
    "NodeList = Small_NodeList\n",
    "print(len(NodeList))\n",
    "\n",
    "\n",
    "file_address = save_dir+'flickrEdges.txt'\n",
    "start = time.time()\n",
    "G = nx.DiGraph()\n",
    "print('Start Reading')\n",
    "with open(file_address) as f:\n",
    "    #n, m = f.readline().split(',')\n",
    "    for line in f:\n",
    "        if line[0] != '#':\n",
    "            u, v = list(map(int, line.split(' ')))\n",
    "            if u in NodeList and v in NodeList:\n",
    "                try:\n",
    "                    G[u][v]['weight'] += 1\n",
    "                except:\n",
    "                    G.add_edge(u,v, weight=1)\n",
    "                try:\n",
    "                    G[v][u]['weight'] += 1\n",
    "                except:\n",
    "                    G.add_edge(v, u, weight=1)\n",
    "print('Start Dumping')\n",
    "print(len(G.nodes()), len(G.edges()))"
   ]
  },
  {
   "cell_type": "code",
   "execution_count": 6,
   "metadata": {},
   "outputs": [],
   "source": [
    "pickle.dump(NodeList, open(save_dir+'NodeList50-100.list', \"wb\" ))"
   ]
  },
  {
   "cell_type": "code",
   "execution_count": 7,
   "metadata": {},
   "outputs": [],
   "source": [
    "pickle.dump(G, open(save_dir+'SubG50-100.G', \"wb\" ))"
   ]
  },
  {
   "cell_type": "code",
   "execution_count": null,
   "metadata": {},
   "outputs": [],
   "source": []
  }
 ],
 "metadata": {
  "kernelspec": {
   "display_name": "Python 3",
   "language": "python",
   "name": "python3"
  },
  "language_info": {
   "codemirror_mode": {
    "name": "ipython",
    "version": 3
   },
   "file_extension": ".py",
   "mimetype": "text/x-python",
   "name": "python",
   "nbconvert_exporter": "python",
   "pygments_lexer": "ipython3",
   "version": "3.6.1"
  }
 },
 "nbformat": 4,
 "nbformat_minor": 2
}
