{
 "cells": [
  {
   "cell_type": "code",
   "execution_count": 1,
   "metadata": {},
   "outputs": [],
   "source": [
    "import random\n",
    "import heapq\n",
    "import datetime\n",
    "import networkx as nx\n",
    "import math\n",
    "import argparse\n",
    "import matplotlib.pyplot as plt\n",
    "import time\n",
    "import pickle\n",
    "import numpy as np\n",
    "import operator\n"
   ]
  },
  {
   "cell_type": "code",
   "execution_count": 9,
   "metadata": {},
   "outputs": [
    {
     "name": "stdout",
     "output_type": "stream",
     "text": [
      "Finish Processing, Start dumping\n",
      "Total Nodes 105938\n",
      "maxDegree 5425 1\n",
      "AverageDegree 43.74158470048519\n",
      "Total Nodes 5261\n",
      "maxDegree 15 12\n",
      "AverageDegree 13.255844896407528\n"
     ]
    }
   ],
   "source": [
    "file_address_5 = '../datasets/Flickr/flickrEdges.txt'\n",
    "save_dir = '../datasets/Flickr/'\n",
    "\n",
    "featureDic = {}\n",
    "thetaDic = {}\n",
    "PDic = {}\n",
    "NodeDegree = {}\n",
    "\n",
    "with open(file_address_5) as f:\n",
    "    counter = 0\n",
    "    for line in f:\n",
    "        if counter >=4:\n",
    "            data = line.split(' ')\n",
    "            u = int(data[0])\n",
    "            v = int(data[1])\n",
    "            if u not in NodeDegree:\n",
    "                NodeDegree[u] = 1\n",
    "            else:\n",
    "                NodeDegree[u]  +=1\n",
    "            if v not in NodeDegree:\n",
    "                NodeDegree[v] = 1\n",
    "            else:\n",
    "                NodeDegree[v]  +=1\n",
    "\n",
    "        counter +=1\n",
    "print('Finish Processing, Start dumping')\n",
    "print('Total Nodes', len(NodeDegree))\n",
    "print('maxDegree', max(iter(NodeDegree.items()), key=operator.itemgetter(1))[1], min(iter(NodeDegree.items()), key=operator.itemgetter(1))[1])\n",
    "print('AverageDegree', sum(NodeDegree.values())/float(len(NodeDegree)))\n",
    "\n",
    "FinalNodeList =[]\n",
    "FinalNodeDegree  = {}\n",
    "max_degree = 15\n",
    "min_degree = 12\n",
    "\n",
    "for key in NodeDegree:\n",
    "    if NodeDegree[key] <= max_degree and NodeDegree[key] >= min_degree:\n",
    "        FinalNodeList.append(key)\n",
    "        FinalNodeDegree[key] = NodeDegree[key]\n",
    "\n",
    "print('Total Nodes', len(FinalNodeList))\n",
    "print('maxDegree', max(iter(FinalNodeDegree.items()), key=operator.itemgetter(1))[1], min(iter(FinalNodeDegree.items()), key=operator.itemgetter(1))[1])\n",
    "print('AverageDegree', sum(FinalNodeDegree.values())/float(len(FinalNodeDegree)))\n"
   ]
  },
  {
   "cell_type": "code",
   "execution_count": 10,
   "metadata": {},
   "outputs": [
    {
     "name": "stdout",
     "output_type": "stream",
     "text": [
      "5261\n",
      "5261\n",
      "Start Reading\n",
      "Start Dumping\n",
      "2841 4308\n"
     ]
    }
   ],
   "source": [
    "save_dir = '../datasets/Flickr/'\n",
    "NodeList = FinalNodeList\n",
    "\n",
    "NodeNum = len(NodeList)\n",
    "print(NodeNum)\n",
    "Small_NodeList = NodeList\n",
    "NodeList = Small_NodeList\n",
    "print(len(NodeList))\n",
    "\n",
    "\n",
    "file_address = save_dir+'flickrEdges.txt'\n",
    "start = time.time()\n",
    "G = nx.DiGraph()\n",
    "print('Start Reading')\n",
    "with open(file_address) as f:\n",
    "    #n, m = f.readline().split(',')\n",
    "    for line in f:\n",
    "        if line[0] != '#':\n",
    "            u, v = list(map(int, line.split(' ')))\n",
    "            if u in NodeList and v in NodeList:\n",
    "                try:\n",
    "                    G[u][v]['weight'] += 1\n",
    "                except:\n",
    "                    G.add_edge(u,v, weight=1)\n",
    "                try:\n",
    "                    G[v][u]['weight'] += 1\n",
    "                except:\n",
    "                    G.add_edge(v, u, weight=1)\n",
    "print('Start Dumping')\n",
    "print(len(G.nodes()), len(G.edges()))"
   ]
  },
  {
   "cell_type": "code",
   "execution_count": null,
   "metadata": {},
   "outputs": [],
   "source": [
    "2414  13810"
   ]
  },
  {
   "cell_type": "code",
   "execution_count": 33,
   "metadata": {},
   "outputs": [],
   "source": [
    "pickle.dump(NodeList+NodeList2, open(save_dir+'NodeListUnion.list', \"wb\" ))"
   ]
  },
  {
   "cell_type": "code",
   "execution_count": 34,
   "metadata": {},
   "outputs": [],
   "source": [
    "pickle.dump(G_Union, open(save_dir+'G_Union.G', \"wb\" ))"
   ]
  },
  {
   "cell_type": "code",
   "execution_count": 38,
   "metadata": {},
   "outputs": [],
   "source": [
    "NodeListUnion = NodeList+NodeList2"
   ]
  },
  {
   "cell_type": "code",
   "execution_count": 13,
   "metadata": {},
   "outputs": [],
   "source": [
    "G2 = pickle.load(open(save_dir+'SubG50-100.G', 'rb'))\n",
    "NodeList2 = pickle.load(open(save_dir+'NodeList50-100.list', 'rb'))"
   ]
  },
  {
   "cell_type": "code",
   "execution_count": 26,
   "metadata": {},
   "outputs": [
    {
     "name": "stdout",
     "output_type": "stream",
     "text": [
      "213\n"
     ]
    }
   ],
   "source": [
    "count = 0\n",
    "with open(file_address) as f:\n",
    "    #n, m = f.readline().split(',')\n",
    "    for line in f:\n",
    "        if line[0] != '#':\n",
    "            u, v = list(map(int, line.split(' ')))\n",
    "            if (u in NodeList and v in NodeList2) or (u in NodeList2 and v in NodeList):\n",
    "                if random.random() <= 0.05:\n",
    "                    G_Union.add_edge(u,v, weight=1)\n",
    "                    G_Union.add_edge(v,u, weight=1)\n",
    "                    count += 1\n",
    "print(count)"
   ]
  },
  {
   "cell_type": "code",
   "execution_count": 17,
   "metadata": {},
   "outputs": [],
   "source": [
    "G_Union = nx.compose(G, G2)"
   ]
  },
  {
   "cell_type": "code",
   "execution_count": 42,
   "metadata": {},
   "outputs": [
    {
     "data": {
      "image/png": "[encoded data removed]",
      "text/plain": [
       "<Figure size 432x288 with 1 Axes>"
      ]
     },
     "metadata": {},
     "output_type": "display_data"
    },
    {
     "data": {
      "image/png": "[encoded data removed]",
      "text/plain": [
       "<Figure size 432x288 with 1 Axes>"
      ]
     },
     "metadata": {},
     "output_type": "display_data"
    }
   ],
   "source": [
    "save_dir = '../datasets/Flickr/'\n",
    "def featureUniform(dimension, scale):\n",
    "    vector = np.array([random.random() for i in range(dimension)])\n",
    "    l2_norm = np.linalg.norm(vector, ord =2)\n",
    "\n",
    "    vector = vector/l2_norm\n",
    "\n",
    "    gau = np.random.normal(0.5, 0.5, 1)[0]\n",
    "    while gau < 0 or gau > 1:\n",
    "        gau = np.random.normal(0.5, 0.5, 1)[0]\n",
    "\n",
    "    vector = vector / scale * gau * 1\n",
    "\n",
    "    return vector\n",
    "\n",
    "dimension = 4\n",
    "nodeDic = {}\n",
    "edgeDic = {}\n",
    "soft_degree = []\n",
    "hard_degree = []\n",
    "G = pickle.load(open(save_dir+'G_Union.G', 'rb'))\n",
    "for u in G.nodes():\n",
    "    if u in NodeList:\n",
    "        nodeDic[u] = [featureUniform(dimension, 1), featureUniform(dimension, 1)]\n",
    "    elif u in NodeList2:\n",
    "        nodeDic[u] = [featureUniform(dimension, 50), featureUniform(dimension, 1)]\n",
    "    else:\n",
    "        print('error')\n",
    "for u in G.nodes():\n",
    "    hd = 0\n",
    "    sd = 0\n",
    "    for v in G[u]:\n",
    "        prob = np.dot(nodeDic[u][1], nodeDic[v][0]) * 4\n",
    "        if prob > 1:\n",
    "            prob = 1\n",
    "        edgeDic[(u,v)] = prob\n",
    "        sd += prob\n",
    "        hd += 1\n",
    "    soft_degree.append(sd)\n",
    "    hard_degree.append(hd)\n",
    "plt.hist(soft_degree)\n",
    "plt.show()\n",
    "plt.hist(hard_degree)\n",
    "plt.show()\n",
    "\n",
    "# pickle.dump(nodeDic, open(save_dir+'Small_nodeFeatures.dic', \"wb\" ))\n",
    "# pickle.dump(edgeDic, open(save_dir+'Probability.dic', \"wb\" ))\n"
   ]
  },
  {
   "cell_type": "code",
   "execution_count": 43,
   "metadata": {},
   "outputs": [],
   "source": [
    "pickle.dump(nodeDic, open(save_dir+'Small_nodeFeatures.dic', \"wb\" ))\n",
    "pickle.dump(edgeDic, open(save_dir+'Probability.dic', \"wb\" ))"
   ]
  },
  {
   "cell_type": "code",
   "execution_count": 37,
   "metadata": {},
   "outputs": [
    {
     "data": {
      "image/png": "[encoded data removed]",
      "text/plain": [
       "<Figure size 432x288 with 1 Axes>"
      ]
     },
     "metadata": {},
     "output_type": "display_data"
    },
    {
     "data": {
      "image/png": "[encoded data removed]",
      "text/plain": [
       "<Figure size 432x288 with 1 Axes>"
      ]
     },
     "metadata": {},
     "output_type": "display_data"
    }
   ],
   "source": [
    "save_dir = '../datasets/Flickr/'\n",
    "def featureUniform(dimension, scale):\n",
    "    vector = np.array([random.random() for i in range(dimension)])\n",
    "    l2_norm = np.linalg.norm(vector, ord =2)\n",
    "\n",
    "    vector = vector/l2_norm\n",
    "\n",
    "    gau = np.random.normal(0.5, 0.5, 1)[0]\n",
    "    while gau < 0 or gau > 1:\n",
    "        gau = np.random.normal(0.5, 0.5, 1)[0]\n",
    "\n",
    "    vector = vector / scale * gau * 1\n",
    "\n",
    "    return vector\n",
    "\n",
    "dimension = 4\n",
    "nodeDic = {}\n",
    "edgeDic = {}\n",
    "soft_degree = []\n",
    "hard_degree = []\n",
    "G = pickle.load(open(save_dir+'SubG50-100.G', 'rb'))\n",
    "for u in G.nodes():\n",
    "    nodeDic[u] = [featureUniform(dimension, 50), featureUniform(dimension, 1)]\n",
    "for u in G.nodes():\n",
    "    hd = 0\n",
    "    sd = 0\n",
    "    for v in G[u]:\n",
    "        prob = np.dot(nodeDic[u][1], nodeDic[v][0]) * 1\n",
    "        if prob > 1:\n",
    "            prob = 1\n",
    "        edgeDic[(u,v)] = prob\n",
    "        sd += prob\n",
    "        hd += 1\n",
    "    soft_degree.append(sd)\n",
    "    hard_degree.append(hd)\n",
    "plt.hist(soft_degree)\n",
    "plt.show()\n",
    "plt.hist(hard_degree)\n",
    "plt.show()\n",
    "\n",
    "# pickle.dump(nodeDic, open(save_dir+'Small_nodeFeatures.dic', \"wb\" ))\n",
    "# pickle.dump(edgeDic, open(save_dir+'Probability.dic', \"wb\" ))\n"
   ]
  },
  {
   "cell_type": "code",
   "execution_count": null,
   "metadata": {},
   "outputs": [],
   "source": []
  }
 ],
 "metadata": {
  "kernelspec": {
   "display_name": "Python 3",
   "language": "python",
   "name": "python3"
  },
  "language_info": {
   "codemirror_mode": {
    "name": "ipython",
    "version": 3
   },
   "file_extension": ".py",
   "mimetype": "text/x-python",
   "name": "python",
   "nbconvert_exporter": "python",
   "pygments_lexer": "ipython3",
   "version": "3.6.1"
  }
 },
 "nbformat": 4,
 "nbformat_minor": 2
}
